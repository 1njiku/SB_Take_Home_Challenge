{
 "cells": [
  {
   "cell_type": "markdown",
   "metadata": {},
   "source": [
    "**The neighboring cities of Gotham and Metropolis have complementary circadian rhythms: on\n",
    "weekdays, Ultimate Gotham is most active at night, and Ultimate Metropolis is most active\n",
    "during the day. On weekends, there is reasonable activity in both cities.\n",
    "However, a toll bridge, with a two­way toll, between the two cities causes driver partners to tend\n",
    "to be exclusive to each city. The Ultimate managers of city operations for the two cities have\n",
    "proposed an experiment to encourage driver partners to be available in both cities, by\n",
    "reimbursing all toll costs.**"
   ]
  },
  {
   "cell_type": "markdown",
   "metadata": {},
   "source": [
    "1. What would you choose as the key measure of success of this experiment in\n",
    "encouraging driver partners to serve both cities, and why would you choose this metric?"
   ]
  },
  {
   "cell_type": "markdown",
   "metadata": {},
   "source": [
    "Assuming the tolls track each car's payment, entrance, and exit off the bridge, the management authority can estimate the number of drivers who cross the bridge before the implementation of the program from using the toll data. After the authority starts the reimbursement scheme, it can then compare this to the number of cars requesting reimbursements. \n",
    "A measurement of success would be an increase in cars using the toll bridge after the reimbursement scheme versus before. \n"
   ]
  },
  {
   "cell_type": "markdown",
   "metadata": {},
   "source": [
    "2. Describe a practical experiment you would design to compare the effectiveness of the\n",
    "proposed change in relation to the key measure of success. Please provide details on:"
   ]
  },
  {
   "cell_type": "markdown",
   "metadata": {},
   "source": [
    "a. How you will implement this experiment\n",
    "\n",
    "A practical experiment to investigate the above measure would have: \n",
    "-  H0 hypothesis: There is no difference in the number of cars accessing the toll bridge for a round trip before and after the new tolls reimbursement scheme.\n",
    "-  Alternate: The number of cars which access the toll bridge for a round trip differs between pre-reimbursement scheme and post-reimbursement scheme.\n",
    "-  The authority would estimate the number of cars that pay a round trip toll before instituting the reimbursement scheme and after the reimbursement scheme.\n"
   ]
  },
  {
   "cell_type": "markdown",
   "metadata": {},
   "source": [
    "b. What statistical test(s) you will conduct to verify the significance of the\n",
    "observation\n",
    "\n",
    "A two-sample Poisson rate test would be a good candidate for this experiment because the data (the number of cars crossing the toll bridge over a pre-determined amount of time) mirrors Poisson processes."
   ]
  },
  {
   "cell_type": "markdown",
   "metadata": {},
   "source": [
    "c. How you would interpret the results and provide recommendations to the city\n",
    "operations team along with any caveats.\n",
    "\n",
    "An increase in the number of cars crossing the toll bridge on a round trip after instituting the reimbursement scheme would indicate a successful experiment. A major caveat to this success is the amount of money the management authority would have to shell out to reimburse drivers. Without other sources of income that might offset this expense, the reimbursement scheme might not be sustainable."
   ]
  }
 ],
 "metadata": {
  "kernelspec": {
   "display_name": "Python 3",
   "language": "python",
   "name": "python3"
  },
  "language_info": {
   "codemirror_mode": {
    "name": "ipython",
    "version": 3
   },
   "file_extension": ".py",
   "mimetype": "text/x-python",
   "name": "python",
   "nbconvert_exporter": "python",
   "pygments_lexer": "ipython3",
   "version": "3.7.3"
  }
 },
 "nbformat": 4,
 "nbformat_minor": 4
}
